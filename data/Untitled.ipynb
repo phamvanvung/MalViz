{
 "cells": [
  {
   "cell_type": "code",
   "execution_count": null,
   "metadata": {
    "collapsed": true
   },
   "outputs": [],
   "source": [
    "import json\n",
    "from pprint import pprint\n",
    "with open('domain.json') as data_file:    \n",
    "    data = json.load(data_file)\n",
    "data"
   ]
  },
  {
   "cell_type": "code",
   "execution_count": null,
   "metadata": {
    "collapsed": true
   },
   "outputs": [],
   "source": [
    "data['domain'][0]['name']"
   ]
  },
  {
   "cell_type": "code",
   "execution_count": null,
   "metadata": {
    "collapsed": true
   },
   "outputs": [],
   "source": [
    "from urllib.request import urlopen\n"
   ]
  },
  {
   "cell_type": "code",
   "execution_count": null,
   "metadata": {
    "collapsed": true
   },
   "outputs": [],
   "source": [
    "resp['data'][0]['attributes']['last_analysis_stats']"
   ]
  },
  {
   "cell_type": "code",
   "execution_count": null,
   "metadata": {
    "collapsed": true
   },
   "outputs": [],
   "source": [
    "import requests\n",
    "import pandas as pd\n",
    "import csv"
   ]
  },
  {
   "cell_type": "code",
   "execution_count": null,
   "metadata": {
    "collapsed": true
   },
   "outputs": [],
   "source": []
  },
  {
   "cell_type": "code",
   "execution_count": null,
   "metadata": {
    "collapsed": true
   },
   "outputs": [],
   "source": []
  },
  {
   "cell_type": "code",
   "execution_count": null,
   "metadata": {
    "collapsed": true
   },
   "outputs": [],
   "source": []
  },
  {
   "cell_type": "code",
   "execution_count": null,
   "metadata": {
    "collapsed": true
   },
   "outputs": [],
   "source": []
  },
  {
   "cell_type": "code",
   "execution_count": null,
   "metadata": {
    "collapsed": true
   },
   "outputs": [],
   "source": [
    "domainsdf"
   ]
  },
  {
   "cell_type": "code",
   "execution_count": null,
   "metadata": {
    "collapsed": true
   },
   "outputs": [],
   "source": [
    "domainsdf = pd.DataFrame(columns=['domain','count','harmless','malicious','suspicious','timeout','undetected'])\n",
    "for line in data['domain']:\n",
    "    try:\n",
    "        url = urlopen('https://www.virustotal.com/ui/search?query=http://'+line['name'])\n",
    "        resp = json.loads(url.read().decode('utf-8'))\n",
    "        domain = line['name']\n",
    "        count = line['value']\n",
    "        harmless = resp['data'][0]['attributes']['last_analysis_stats']['harmless']\n",
    "        malicious = resp['data'][0]['attributes']['last_analysis_stats']['malicious']\n",
    "        suspicious = resp['data'][0]['attributes']['last_analysis_stats']['suspicious']\n",
    "        timeout = resp['data'][0]['attributes']['last_analysis_stats']['timeout']\n",
    "        undetected = resp['data'][0]['attributes']['last_analysis_stats']['undetected']\n",
    "        tuple = [domain,count,harmless,malicious,suspicious,timeout,undetected]\n",
    "        domainsdf.loc[len(domainsdf)] = tuple\n",
    "    except:\n",
    "        domain = line['name']\n",
    "        count = line['value']\n",
    "        harmless = 0\n",
    "        malicious = 0\n",
    "        suspicious = 0\n",
    "        timeout = 0\n",
    "        undetected = 0\n",
    "        tuple = [domain,count,harmless,malicious,suspicious,timeout,undetected]\n",
    "        domainsdf.loc[len(domainsdf)] = tuple\n",
    "        continue"
   ]
  },
  {
   "cell_type": "code",
   "execution_count": null,
   "metadata": {
    "collapsed": true
   },
   "outputs": [],
   "source": [
    "domainsdf"
   ]
  },
  {
   "cell_type": "code",
   "execution_count": null,
   "metadata": {
    "collapsed": true
   },
   "outputs": [],
   "source": [
    "domainsdf.to_csv('domain.csv')"
   ]
  },
  {
   "cell_type": "code",
   "execution_count": 1,
   "metadata": {
    "collapsed": true
   },
   "outputs": [],
   "source": [
    "import xml.etree.ElementTree as ET\n",
    "import pandas as pd\n",
    "import csv\n",
    "datadf = pd.DataFrame(columns=['Time_of_Day','Process_Name','PID','Operation','Path','Result','Detail'])\n",
    "tree = ET.parse('Logfile_Test2.XML')\n",
    "root = tree.getroot()\n",
    "eventLists = root[1].findall(\"event\")\n",
    "for event in eventLists:\n",
    "    Time_of_Day = event.find('Time_of_Day').text\n",
    "    Process_Name = event.find('Process_Name').text\n",
    "    PID = event.find('PID').text\n",
    "    Operation = event.find('Operation').text\n",
    "    Path = event.find('Path').text\n",
    "    Result = event.find('Result').text\n",
    "    Detail = event.find('Detail').text\n",
    "    tuple = [Time_of_Day,Process_Name,PID,Operation,Path,Result,Detail]\n",
    "    datadf.loc[len(datadf)] = tuple\n",
    "datadf.to_csv('Logfile_Test2.csv')"
   ]
  },
  {
   "cell_type": "code",
   "execution_count": null,
   "metadata": {
    "collapsed": true
   },
   "outputs": [],
   "source": []
  },
  {
   "cell_type": "code",
   "execution_count": null,
   "metadata": {
    "collapsed": true
   },
   "outputs": [],
   "source": [
    "things = soup.find_all('event')\n",
    "things"
   ]
  },
  {
   "cell_type": "code",
   "execution_count": null,
   "metadata": {
    "collapsed": true
   },
   "outputs": [],
   "source": [
    "for event in root.findAll('event'):\n",
    "    print(event.find('PID').text)"
   ]
  },
  {
   "cell_type": "code",
   "execution_count": null,
   "metadata": {
    "collapsed": true
   },
   "outputs": [],
   "source": [
    "for child in root:\n",
    "    print(child.tag, child.attrib)"
   ]
  },
  {
   "cell_type": "code",
   "execution_count": null,
   "metadata": {
    "collapsed": true
   },
   "outputs": [],
   "source": []
  },
  {
   "cell_type": "code",
   "execution_count": null,
   "metadata": {
    "collapsed": true
   },
   "outputs": [],
   "source": [
    "root[1][0][0].text\n"
   ]
  },
  {
   "cell_type": "code",
   "execution_count": null,
   "metadata": {
    "collapsed": true
   },
   "outputs": [],
   "source": [
    "for event in root[1]:\n",
    "    print(event[0].text)"
   ]
  },
  {
   "cell_type": "code",
   "execution_count": null,
   "metadata": {
    "collapsed": true
   },
   "outputs": [],
   "source": [
    "things[0].text"
   ]
  },
  {
   "cell_type": "code",
   "execution_count": null,
   "metadata": {
    "collapsed": true
   },
   "outputs": [],
   "source": [
    "time ='4:19:04.4834793 PM'"
   ]
  },
  {
   "cell_type": "code",
   "execution_count": null,
   "metadata": {
    "collapsed": true
   },
   "outputs": [],
   "source": [
    "time[8:15]"
   ]
  },
  {
   "cell_type": "code",
   "execution_count": null,
   "metadata": {
    "collapsed": true
   },
   "outputs": [],
   "source": [
    "datadf = pd.DataFrame(columns=['Time_of_Day','Process_Name','PID','Operation','Path','Result','Detail'])\n",
    "with open('Logfile_Test2.XML.CSV') as csvDataFile:\n",
    "    csvReader = csv.reader(csvDataFile)\n",
    "    for row in csvReader:\n",
    "        Time_of_Day = event.find('Time_of_Day').text\n",
    "        Process_Name = event.find('Process_Name').text\n",
    "        PID = event.find('PID').text\n",
    "        Operation = event.find('Operation').text\n",
    "        Path = event.find('Path').text\n",
    "        Result = event.find('Result').text\n",
    "        Detail = event.find('Detail').text\n",
    "        tuple = [ProcessIndex,Time_of_Day,Process_Name,PID,Operation,Path,Result,Detail]\n",
    "        datadf.loc[len(datadf)] = tuple\n",
    "datadf.to_csv()"
   ]
  },
  {
   "cell_type": "code",
   "execution_count": null,
   "metadata": {
    "collapsed": true
   },
   "outputs": [],
   "source": []
  }
 ],
 "metadata": {
  "kernelspec": {
   "display_name": "Python 3",
   "language": "python",
   "name": "python3"
  },
  "language_info": {
   "codemirror_mode": {
    "name": "ipython",
    "version": 3
   },
   "file_extension": ".py",
   "mimetype": "text/x-python",
   "name": "python",
   "nbconvert_exporter": "python",
   "pygments_lexer": "ipython3",
   "version": "3.6.2"
  }
 },
 "nbformat": 4,
 "nbformat_minor": 2
}
